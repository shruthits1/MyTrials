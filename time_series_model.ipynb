{
  "nbformat": 4,
  "nbformat_minor": 0,
  "metadata": {
    "colab": {
      "provenance": [],
      "authorship_tag": "ABX9TyPAkURTIExjjz/eeFskrwnZ",
      "include_colab_link": true
    },
    "kernelspec": {
      "name": "python3",
      "display_name": "Python 3"
    },
    "language_info": {
      "name": "python"
    }
  },
  "cells": [
    {
      "cell_type": "markdown",
      "metadata": {
        "id": "view-in-github",
        "colab_type": "text"
      },
      "source": [
        "<a href=\"https://colab.research.google.com/github/shruthits1/MyTrials/blob/main/time_series_model.ipynb\" target=\"_parent\"><img src=\"https://colab.research.google.com/assets/colab-badge.svg\" alt=\"Open In Colab\"/></a>"
      ]
    },
    {
      "cell_type": "code",
      "execution_count": 5,
      "metadata": {
        "id": "sJrqwooDHHn9",
        "colab": {
          "base_uri": "https://localhost:8080/"
        },
        "outputId": "f7b85723-e51a-4b59-b374-025550248a21"
      },
      "outputs": [
        {
          "output_type": "stream",
          "name": "stdout",
          "text": [
            "Requirement already satisfied: pandas in /usr/local/lib/python3.12/dist-packages (2.2.2)\n",
            "Requirement already satisfied: numpy in /usr/local/lib/python3.12/dist-packages (2.0.2)\n",
            "Requirement already satisfied: requests in /usr/local/lib/python3.12/dist-packages (2.32.4)\n",
            "Requirement already satisfied: matplotlib in /usr/local/lib/python3.12/dist-packages (3.10.0)\n",
            "Requirement already satisfied: scikit-learn in /usr/local/lib/python3.12/dist-packages (1.6.1)\n",
            "Requirement already satisfied: statsmodels in /usr/local/lib/python3.12/dist-packages (0.14.5)\n",
            "Requirement already satisfied: pyportfolioopt in /usr/local/lib/python3.12/dist-packages (1.5.6)\n",
            "Requirement already satisfied: python-dateutil>=2.8.2 in /usr/local/lib/python3.12/dist-packages (from pandas) (2.9.0.post0)\n",
            "Requirement already satisfied: pytz>=2020.1 in /usr/local/lib/python3.12/dist-packages (from pandas) (2025.2)\n",
            "Requirement already satisfied: tzdata>=2022.7 in /usr/local/lib/python3.12/dist-packages (from pandas) (2025.2)\n",
            "Requirement already satisfied: charset_normalizer<4,>=2 in /usr/local/lib/python3.12/dist-packages (from requests) (3.4.3)\n",
            "Requirement already satisfied: idna<4,>=2.5 in /usr/local/lib/python3.12/dist-packages (from requests) (3.10)\n",
            "Requirement already satisfied: urllib3<3,>=1.21.1 in /usr/local/lib/python3.12/dist-packages (from requests) (2.5.0)\n",
            "Requirement already satisfied: certifi>=2017.4.17 in /usr/local/lib/python3.12/dist-packages (from requests) (2025.8.3)\n",
            "Requirement already satisfied: contourpy>=1.0.1 in /usr/local/lib/python3.12/dist-packages (from matplotlib) (1.3.3)\n",
            "Requirement already satisfied: cycler>=0.10 in /usr/local/lib/python3.12/dist-packages (from matplotlib) (0.12.1)\n",
            "Requirement already satisfied: fonttools>=4.22.0 in /usr/local/lib/python3.12/dist-packages (from matplotlib) (4.59.2)\n",
            "Requirement already satisfied: kiwisolver>=1.3.1 in /usr/local/lib/python3.12/dist-packages (from matplotlib) (1.4.9)\n",
            "Requirement already satisfied: packaging>=20.0 in /usr/local/lib/python3.12/dist-packages (from matplotlib) (25.0)\n",
            "Requirement already satisfied: pillow>=8 in /usr/local/lib/python3.12/dist-packages (from matplotlib) (11.3.0)\n",
            "Requirement already satisfied: pyparsing>=2.3.1 in /usr/local/lib/python3.12/dist-packages (from matplotlib) (3.2.3)\n",
            "Requirement already satisfied: scipy>=1.6.0 in /usr/local/lib/python3.12/dist-packages (from scikit-learn) (1.16.1)\n",
            "Requirement already satisfied: joblib>=1.2.0 in /usr/local/lib/python3.12/dist-packages (from scikit-learn) (1.5.2)\n",
            "Requirement already satisfied: threadpoolctl>=3.1.0 in /usr/local/lib/python3.12/dist-packages (from scikit-learn) (3.6.0)\n",
            "Requirement already satisfied: patsy>=0.5.6 in /usr/local/lib/python3.12/dist-packages (from statsmodels) (1.0.1)\n",
            "Requirement already satisfied: cvxpy>=1.1.19 in /usr/local/lib/python3.12/dist-packages (from pyportfolioopt) (1.6.7)\n",
            "Requirement already satisfied: ecos<3.0.0,>=2.0.14 in /usr/local/lib/python3.12/dist-packages (from pyportfolioopt) (2.0.14)\n",
            "Requirement already satisfied: plotly<6.0.0,>=5.0.0 in /usr/local/lib/python3.12/dist-packages (from pyportfolioopt) (5.24.1)\n",
            "Requirement already satisfied: osqp>=0.6.2 in /usr/local/lib/python3.12/dist-packages (from cvxpy>=1.1.19->pyportfolioopt) (1.0.4)\n",
            "Requirement already satisfied: clarabel>=0.5.0 in /usr/local/lib/python3.12/dist-packages (from cvxpy>=1.1.19->pyportfolioopt) (0.11.1)\n",
            "Requirement already satisfied: scs>=3.2.4.post1 in /usr/local/lib/python3.12/dist-packages (from cvxpy>=1.1.19->pyportfolioopt) (3.2.8)\n",
            "Requirement already satisfied: tenacity>=6.2.0 in /usr/local/lib/python3.12/dist-packages (from plotly<6.0.0,>=5.0.0->pyportfolioopt) (8.5.0)\n",
            "Requirement already satisfied: six>=1.5 in /usr/local/lib/python3.12/dist-packages (from python-dateutil>=2.8.2->pandas) (1.17.0)\n",
            "Requirement already satisfied: cffi in /usr/local/lib/python3.12/dist-packages (from clarabel>=0.5.0->cvxpy>=1.1.19->pyportfolioopt) (1.17.1)\n",
            "Requirement already satisfied: jinja2 in /usr/local/lib/python3.12/dist-packages (from osqp>=0.6.2->cvxpy>=1.1.19->pyportfolioopt) (3.1.6)\n",
            "Requirement already satisfied: setuptools in /usr/local/lib/python3.12/dist-packages (from osqp>=0.6.2->cvxpy>=1.1.19->pyportfolioopt) (75.2.0)\n",
            "Requirement already satisfied: pycparser in /usr/local/lib/python3.12/dist-packages (from cffi->clarabel>=0.5.0->cvxpy>=1.1.19->pyportfolioopt) (2.22)\n",
            "Requirement already satisfied: MarkupSafe>=2.0 in /usr/local/lib/python3.12/dist-packages (from jinja2->osqp>=0.6.2->cvxpy>=1.1.19->pyportfolioopt) (3.0.2)\n"
          ]
        }
      ],
      "source": [
        "!pip install pandas numpy requests matplotlib scikit-learn statsmodels pyportfolioopt\n",
        "\n",
        "import pandas as pd\n",
        "import numpy as np\n",
        "import requests\n",
        "import time\n",
        "import os\n",
        "import matplotlib.pyplot as plt\n",
        "from datetime import datetime\n",
        "from pypfopt import expected_returns, efficient_frontier, plotting, objective_functions\n"
      ]
    },
    {
      "cell_type": "code",
      "source": [
        "# Set Alphavantage API key\n",
        "API_KEY = \"PIEO765GFIFQ484V\"\n",
        "DATA_DIR = \"stock_data\"\n",
        "os.makedirs(DATA_DIR, exist_ok=True)\n"
      ],
      "metadata": {
        "id": "5AS6eR5qKS8F"
      },
      "execution_count": 8,
      "outputs": []
    },
    {
      "cell_type": "markdown",
      "source": [
        "## Fetch stocks"
      ],
      "metadata": {
        "id": "OW1vsMjrKedE"
      }
    },
    {
      "cell_type": "code",
      "source": [
        "def fetch_and_save_stock_data(symbol, api_key):\n",
        "    print(f\"Fetching {symbol}...\")\n",
        "    url = f\"https://www.alphavantage.co/query?function=TIME_SERIES_DAILY&symbol={symbol}&outputsize=full&apikey={api_key}\"\n",
        "    r = requests.get(url)\n",
        "    data = r.json().get(\"Time Series (Daily)\", {})\n",
        "\n",
        "    if not data:\n",
        "        print(f\"No data for {symbol}\")\n",
        "        return None\n",
        "\n",
        "    df = pd.DataFrame.from_dict(data, orient=\"index\")\n",
        "    df = df.rename(columns={\"4. close\": \"close\"}).astype(float)\n",
        "    df.index = pd.to_datetime(df.index)\n",
        "    df = df.sort_index()\n",
        "\n",
        "    csv_path = os.path.join(DATA_DIR, f\"{symbol}.csv\")\n",
        "    df[[\"close\"]].to_csv(csv_path)\n",
        "    return df[[\"close\"]]"
      ],
      "metadata": {
        "id": "cY6MIqDMKcJ8"
      },
      "execution_count": 20,
      "outputs": []
    },
    {
      "cell_type": "markdown",
      "source": [
        "## feature engineering"
      ],
      "metadata": {
        "id": "xxMGC-pUKoM4"
      }
    },
    {
      "cell_type": "code",
      "source": [
        "def add_features(df):\n",
        "    df[\"returns\"] = df[\"close\"].pct_change()\n",
        "    #df[\"volatility\"] = df[\"returns\"].rolling(20).std()\n",
        "    df[\"momentum\"] = df[\"close\"] / df[\"close\"].shift(20) - 1\n",
        "    df.dropna(inplace=True)\n",
        "    return df"
      ],
      "metadata": {
        "id": "VzpXteXKKqbF"
      },
      "execution_count": 18,
      "outputs": []
    },
    {
      "cell_type": "markdown",
      "source": [
        "## Baseline model : ARIMA"
      ],
      "metadata": {
        "id": "26yAyDUNKtaO"
      }
    },
    {
      "cell_type": "code",
      "source": [
        "from statsmodels.tsa.arima.model import ARIMA\n",
        "\n",
        "def forecast_arima(df, ticker, steps=756):  # ~3 years of trading days\n",
        "    model = ARIMA(df[ticker], order=(5,1,0))\n",
        "    model_fit = model.fit()\n",
        "    forecast = model_fit.forecast(steps=steps)\n",
        "    return forecast"
      ],
      "metadata": {
        "id": "CMRHNrYmKvWU"
      },
      "execution_count": 33,
      "outputs": []
    },
    {
      "cell_type": "markdown",
      "source": [
        "## Estimated returns"
      ],
      "metadata": {
        "id": "l1be17BYKx5n"
      }
    },
    {
      "cell_type": "code",
      "source": [
        "def compute_expected_return(forecast_series):\n",
        "    start = forecast_series.iloc[0]\n",
        "    end = forecast_series.iloc[-1]\n",
        "    cagr = np.log(end / start) / 3  # 3-year CAGR\n",
        "    return cagr"
      ],
      "metadata": {
        "id": "U1Nx6-vgK1nH"
      },
      "execution_count": 12,
      "outputs": []
    },
    {
      "cell_type": "markdown",
      "source": [
        "## portfolio Optimization"
      ],
      "metadata": {
        "id": "5UocGaClK6KQ"
      }
    },
    {
      "cell_type": "code",
      "source": [
        "from pypfopt import EfficientFrontier, expected_returns, risk_models\n",
        "\n",
        "def optimize_portfolio(price_df):\n",
        "    mu = expected_returns.mean_historical_return(price_df)\n",
        "    S = risk_models.sample_cov(price_df)\n",
        "    ef = EfficientFrontier(mu, S)\n",
        "    weights = ef.max_sharpe()\n",
        "    return ef.clean_weights()\n"
      ],
      "metadata": {
        "id": "GHp61aTfK8cn"
      },
      "execution_count": 13,
      "outputs": []
    },
    {
      "cell_type": "markdown",
      "source": [
        "# Load and run"
      ],
      "metadata": {
        "id": "86Xwn9WLLAga"
      }
    },
    {
      "cell_type": "code",
      "source": [
        "tickers = [\"AAPL\", \"TSLA\", \"NVDA\", \"MSFT\"]  # Replace with top gainers/losers\n",
        "price_data = {}\n",
        "\n",
        "for ticker in tickers:\n",
        "    csv_path = os.path.join(DATA_DIR, f\"{ticker}.csv\")\n",
        "    if os.path.exists(csv_path):\n",
        "        df = pd.read_csv(csv_path, index_col=0, parse_dates=True)\n",
        "    else:\n",
        "        df = fetch_and_save_stock_data(ticker, API_KEY)\n",
        "    if df is not None:\n",
        "        df = add_features(df)\n",
        "        price_data[ticker] = df[\"close\"]\n",
        "\n",
        "price_df = pd.DataFrame(price_data)"
      ],
      "metadata": {
        "colab": {
          "base_uri": "https://localhost:8080/"
        },
        "id": "_kTAY1R5LCAP",
        "outputId": "3be8b318-5306-4075-d226-e6c1170b1738"
      },
      "execution_count": 21,
      "outputs": [
        {
          "output_type": "stream",
          "name": "stdout",
          "text": [
            "Fetching AAPL...\n",
            "Fetching TSLA...\n",
            "Fetching NVDA...\n",
            "Fetching MSFT...\n"
          ]
        }
      ]
    },
    {
      "cell_type": "code",
      "source": [
        "price_df.head()"
      ],
      "metadata": {
        "colab": {
          "base_uri": "https://localhost:8080/",
          "height": 206
        },
        "id": "C5-r3xH4Pe_8",
        "outputId": "b8a3e0b8-636e-4f5d-dcdb-735402435a69"
      },
      "execution_count": 23,
      "outputs": [
        {
          "output_type": "execute_result",
          "data": {
            "text/plain": [
              "              AAPL  TSLA   NVDA   MSFT\n",
              "1999-11-30   97.87   NaN  34.63  91.05\n",
              "1999-12-01  103.06   NaN  36.38  93.19\n",
              "1999-12-02  110.19   NaN  39.06  94.81\n",
              "1999-12-03  115.00   NaN  38.13  96.12\n",
              "1999-12-06  116.00   NaN  39.19  95.44"
            ],
            "text/html": [
              "\n",
              "  <div id=\"df-ea27eaa8-d7b1-4f47-b354-af9eefee10f3\" class=\"colab-df-container\">\n",
              "    <div>\n",
              "<style scoped>\n",
              "    .dataframe tbody tr th:only-of-type {\n",
              "        vertical-align: middle;\n",
              "    }\n",
              "\n",
              "    .dataframe tbody tr th {\n",
              "        vertical-align: top;\n",
              "    }\n",
              "\n",
              "    .dataframe thead th {\n",
              "        text-align: right;\n",
              "    }\n",
              "</style>\n",
              "<table border=\"1\" class=\"dataframe\">\n",
              "  <thead>\n",
              "    <tr style=\"text-align: right;\">\n",
              "      <th></th>\n",
              "      <th>AAPL</th>\n",
              "      <th>TSLA</th>\n",
              "      <th>NVDA</th>\n",
              "      <th>MSFT</th>\n",
              "    </tr>\n",
              "  </thead>\n",
              "  <tbody>\n",
              "    <tr>\n",
              "      <th>1999-11-30</th>\n",
              "      <td>97.87</td>\n",
              "      <td>NaN</td>\n",
              "      <td>34.63</td>\n",
              "      <td>91.05</td>\n",
              "    </tr>\n",
              "    <tr>\n",
              "      <th>1999-12-01</th>\n",
              "      <td>103.06</td>\n",
              "      <td>NaN</td>\n",
              "      <td>36.38</td>\n",
              "      <td>93.19</td>\n",
              "    </tr>\n",
              "    <tr>\n",
              "      <th>1999-12-02</th>\n",
              "      <td>110.19</td>\n",
              "      <td>NaN</td>\n",
              "      <td>39.06</td>\n",
              "      <td>94.81</td>\n",
              "    </tr>\n",
              "    <tr>\n",
              "      <th>1999-12-03</th>\n",
              "      <td>115.00</td>\n",
              "      <td>NaN</td>\n",
              "      <td>38.13</td>\n",
              "      <td>96.12</td>\n",
              "    </tr>\n",
              "    <tr>\n",
              "      <th>1999-12-06</th>\n",
              "      <td>116.00</td>\n",
              "      <td>NaN</td>\n",
              "      <td>39.19</td>\n",
              "      <td>95.44</td>\n",
              "    </tr>\n",
              "  </tbody>\n",
              "</table>\n",
              "</div>\n",
              "    <div class=\"colab-df-buttons\">\n",
              "\n",
              "  <div class=\"colab-df-container\">\n",
              "    <button class=\"colab-df-convert\" onclick=\"convertToInteractive('df-ea27eaa8-d7b1-4f47-b354-af9eefee10f3')\"\n",
              "            title=\"Convert this dataframe to an interactive table.\"\n",
              "            style=\"display:none;\">\n",
              "\n",
              "  <svg xmlns=\"http://www.w3.org/2000/svg\" height=\"24px\" viewBox=\"0 -960 960 960\">\n",
              "    <path d=\"M120-120v-720h720v720H120Zm60-500h600v-160H180v160Zm220 220h160v-160H400v160Zm0 220h160v-160H400v160ZM180-400h160v-160H180v160Zm440 0h160v-160H620v160ZM180-180h160v-160H180v160Zm440 0h160v-160H620v160Z\"/>\n",
              "  </svg>\n",
              "    </button>\n",
              "\n",
              "  <style>\n",
              "    .colab-df-container {\n",
              "      display:flex;\n",
              "      gap: 12px;\n",
              "    }\n",
              "\n",
              "    .colab-df-convert {\n",
              "      background-color: #E8F0FE;\n",
              "      border: none;\n",
              "      border-radius: 50%;\n",
              "      cursor: pointer;\n",
              "      display: none;\n",
              "      fill: #1967D2;\n",
              "      height: 32px;\n",
              "      padding: 0 0 0 0;\n",
              "      width: 32px;\n",
              "    }\n",
              "\n",
              "    .colab-df-convert:hover {\n",
              "      background-color: #E2EBFA;\n",
              "      box-shadow: 0px 1px 2px rgba(60, 64, 67, 0.3), 0px 1px 3px 1px rgba(60, 64, 67, 0.15);\n",
              "      fill: #174EA6;\n",
              "    }\n",
              "\n",
              "    .colab-df-buttons div {\n",
              "      margin-bottom: 4px;\n",
              "    }\n",
              "\n",
              "    [theme=dark] .colab-df-convert {\n",
              "      background-color: #3B4455;\n",
              "      fill: #D2E3FC;\n",
              "    }\n",
              "\n",
              "    [theme=dark] .colab-df-convert:hover {\n",
              "      background-color: #434B5C;\n",
              "      box-shadow: 0px 1px 3px 1px rgba(0, 0, 0, 0.15);\n",
              "      filter: drop-shadow(0px 1px 2px rgba(0, 0, 0, 0.3));\n",
              "      fill: #FFFFFF;\n",
              "    }\n",
              "  </style>\n",
              "\n",
              "    <script>\n",
              "      const buttonEl =\n",
              "        document.querySelector('#df-ea27eaa8-d7b1-4f47-b354-af9eefee10f3 button.colab-df-convert');\n",
              "      buttonEl.style.display =\n",
              "        google.colab.kernel.accessAllowed ? 'block' : 'none';\n",
              "\n",
              "      async function convertToInteractive(key) {\n",
              "        const element = document.querySelector('#df-ea27eaa8-d7b1-4f47-b354-af9eefee10f3');\n",
              "        const dataTable =\n",
              "          await google.colab.kernel.invokeFunction('convertToInteractive',\n",
              "                                                    [key], {});\n",
              "        if (!dataTable) return;\n",
              "\n",
              "        const docLinkHtml = 'Like what you see? Visit the ' +\n",
              "          '<a target=\"_blank\" href=https://colab.research.google.com/notebooks/data_table.ipynb>data table notebook</a>'\n",
              "          + ' to learn more about interactive tables.';\n",
              "        element.innerHTML = '';\n",
              "        dataTable['output_type'] = 'display_data';\n",
              "        await google.colab.output.renderOutput(dataTable, element);\n",
              "        const docLink = document.createElement('div');\n",
              "        docLink.innerHTML = docLinkHtml;\n",
              "        element.appendChild(docLink);\n",
              "      }\n",
              "    </script>\n",
              "  </div>\n",
              "\n",
              "\n",
              "    <div id=\"df-3b4a6dc2-3bda-45c6-8e17-a808636d9cef\">\n",
              "      <button class=\"colab-df-quickchart\" onclick=\"quickchart('df-3b4a6dc2-3bda-45c6-8e17-a808636d9cef')\"\n",
              "                title=\"Suggest charts\"\n",
              "                style=\"display:none;\">\n",
              "\n",
              "<svg xmlns=\"http://www.w3.org/2000/svg\" height=\"24px\"viewBox=\"0 0 24 24\"\n",
              "     width=\"24px\">\n",
              "    <g>\n",
              "        <path d=\"M19 3H5c-1.1 0-2 .9-2 2v14c0 1.1.9 2 2 2h14c1.1 0 2-.9 2-2V5c0-1.1-.9-2-2-2zM9 17H7v-7h2v7zm4 0h-2V7h2v10zm4 0h-2v-4h2v4z\"/>\n",
              "    </g>\n",
              "</svg>\n",
              "      </button>\n",
              "\n",
              "<style>\n",
              "  .colab-df-quickchart {\n",
              "      --bg-color: #E8F0FE;\n",
              "      --fill-color: #1967D2;\n",
              "      --hover-bg-color: #E2EBFA;\n",
              "      --hover-fill-color: #174EA6;\n",
              "      --disabled-fill-color: #AAA;\n",
              "      --disabled-bg-color: #DDD;\n",
              "  }\n",
              "\n",
              "  [theme=dark] .colab-df-quickchart {\n",
              "      --bg-color: #3B4455;\n",
              "      --fill-color: #D2E3FC;\n",
              "      --hover-bg-color: #434B5C;\n",
              "      --hover-fill-color: #FFFFFF;\n",
              "      --disabled-bg-color: #3B4455;\n",
              "      --disabled-fill-color: #666;\n",
              "  }\n",
              "\n",
              "  .colab-df-quickchart {\n",
              "    background-color: var(--bg-color);\n",
              "    border: none;\n",
              "    border-radius: 50%;\n",
              "    cursor: pointer;\n",
              "    display: none;\n",
              "    fill: var(--fill-color);\n",
              "    height: 32px;\n",
              "    padding: 0;\n",
              "    width: 32px;\n",
              "  }\n",
              "\n",
              "  .colab-df-quickchart:hover {\n",
              "    background-color: var(--hover-bg-color);\n",
              "    box-shadow: 0 1px 2px rgba(60, 64, 67, 0.3), 0 1px 3px 1px rgba(60, 64, 67, 0.15);\n",
              "    fill: var(--button-hover-fill-color);\n",
              "  }\n",
              "\n",
              "  .colab-df-quickchart-complete:disabled,\n",
              "  .colab-df-quickchart-complete:disabled:hover {\n",
              "    background-color: var(--disabled-bg-color);\n",
              "    fill: var(--disabled-fill-color);\n",
              "    box-shadow: none;\n",
              "  }\n",
              "\n",
              "  .colab-df-spinner {\n",
              "    border: 2px solid var(--fill-color);\n",
              "    border-color: transparent;\n",
              "    border-bottom-color: var(--fill-color);\n",
              "    animation:\n",
              "      spin 1s steps(1) infinite;\n",
              "  }\n",
              "\n",
              "  @keyframes spin {\n",
              "    0% {\n",
              "      border-color: transparent;\n",
              "      border-bottom-color: var(--fill-color);\n",
              "      border-left-color: var(--fill-color);\n",
              "    }\n",
              "    20% {\n",
              "      border-color: transparent;\n",
              "      border-left-color: var(--fill-color);\n",
              "      border-top-color: var(--fill-color);\n",
              "    }\n",
              "    30% {\n",
              "      border-color: transparent;\n",
              "      border-left-color: var(--fill-color);\n",
              "      border-top-color: var(--fill-color);\n",
              "      border-right-color: var(--fill-color);\n",
              "    }\n",
              "    40% {\n",
              "      border-color: transparent;\n",
              "      border-right-color: var(--fill-color);\n",
              "      border-top-color: var(--fill-color);\n",
              "    }\n",
              "    60% {\n",
              "      border-color: transparent;\n",
              "      border-right-color: var(--fill-color);\n",
              "    }\n",
              "    80% {\n",
              "      border-color: transparent;\n",
              "      border-right-color: var(--fill-color);\n",
              "      border-bottom-color: var(--fill-color);\n",
              "    }\n",
              "    90% {\n",
              "      border-color: transparent;\n",
              "      border-bottom-color: var(--fill-color);\n",
              "    }\n",
              "  }\n",
              "</style>\n",
              "\n",
              "      <script>\n",
              "        async function quickchart(key) {\n",
              "          const quickchartButtonEl =\n",
              "            document.querySelector('#' + key + ' button');\n",
              "          quickchartButtonEl.disabled = true;  // To prevent multiple clicks.\n",
              "          quickchartButtonEl.classList.add('colab-df-spinner');\n",
              "          try {\n",
              "            const charts = await google.colab.kernel.invokeFunction(\n",
              "                'suggestCharts', [key], {});\n",
              "          } catch (error) {\n",
              "            console.error('Error during call to suggestCharts:', error);\n",
              "          }\n",
              "          quickchartButtonEl.classList.remove('colab-df-spinner');\n",
              "          quickchartButtonEl.classList.add('colab-df-quickchart-complete');\n",
              "        }\n",
              "        (() => {\n",
              "          let quickchartButtonEl =\n",
              "            document.querySelector('#df-3b4a6dc2-3bda-45c6-8e17-a808636d9cef button');\n",
              "          quickchartButtonEl.style.display =\n",
              "            google.colab.kernel.accessAllowed ? 'block' : 'none';\n",
              "        })();\n",
              "      </script>\n",
              "    </div>\n",
              "\n",
              "    </div>\n",
              "  </div>\n"
            ],
            "application/vnd.google.colaboratory.intrinsic+json": {
              "type": "dataframe",
              "variable_name": "price_df",
              "summary": "{\n  \"name\": \"price_df\",\n  \"rows\": 6481,\n  \"fields\": [\n    {\n      \"column\": \"AAPL\",\n      \"properties\": {\n        \"dtype\": \"number\",\n        \"std\": 145.00648192763944,\n        \"min\": 13.12,\n        \"max\": 702.1,\n        \"num_unique_values\": 5698,\n        \"samples\": [\n          94.62,\n          22.73,\n          364.84\n        ],\n        \"semantic_type\": \"\",\n        \"description\": \"\"\n      }\n    },\n    {\n      \"column\": \"TSLA\",\n      \"properties\": {\n        \"dtype\": \"number\",\n        \"std\": 276.7011058663159,\n        \"min\": 17.6,\n        \"max\": 2238.75,\n        \"num_unique_values\": 3548,\n        \"samples\": [\n          31.75,\n          605.12,\n          225.6\n        ],\n        \"semantic_type\": \"\",\n        \"description\": \"\"\n      }\n    },\n    {\n      \"column\": \"NVDA\",\n      \"properties\": {\n        \"dtype\": \"number\",\n        \"std\": 165.74412283665387,\n        \"min\": 5.9,\n        \"max\": 1224.4,\n        \"num_unique_values\": 4929,\n        \"samples\": [\n          140.22,\n          173.92,\n          21.43\n        ],\n        \"semantic_type\": \"\",\n        \"description\": \"\"\n      }\n    },\n    {\n      \"column\": \"MSFT\",\n      \"properties\": {\n        \"dtype\": \"number\",\n        \"std\": 120.62425290771967,\n        \"min\": 15.15,\n        \"max\": 535.64,\n        \"num_unique_values\": 4566,\n        \"samples\": [\n          22.79,\n          64.71,\n          301.83\n        ],\n        \"semantic_type\": \"\",\n        \"description\": \"\"\n      }\n    }\n  ]\n}"
            }
          },
          "metadata": {},
          "execution_count": 23
        }
      ]
    },
    {
      "cell_type": "code",
      "source": [
        "#there are 2680 NAN values for Tesla from 1999 . setting closing price to 0\n",
        "price_df.fillna(0, inplace=True)"
      ],
      "metadata": {
        "id": "10El4ZtuPvJe"
      },
      "execution_count": 25,
      "outputs": []
    },
    {
      "cell_type": "code",
      "source": [
        "for ticker in price_df.columns:\n",
        "    # Pass a DataFrame with the 'close' column for each ticker\n",
        "    forecast = forecast_arima(price_df, \"AAPL\")\n",
        "    print(\"forecast: \", forecast)"
      ],
      "metadata": {
        "colab": {
          "base_uri": "https://localhost:8080/"
        },
        "id": "PXLIwaR-Q46x",
        "outputId": "0a2fb457-5c7f-449a-9eca-99c35dc42df8"
      },
      "execution_count": 35,
      "outputs": [
        {
          "output_type": "stream",
          "name": "stderr",
          "text": [
            "/usr/local/lib/python3.12/dist-packages/statsmodels/tsa/base/tsa_model.py:473: ValueWarning: A date index has been provided, but it has no associated frequency information and so will be ignored when e.g. forecasting.\n",
            "  self._init_dates(dates, freq)\n",
            "/usr/local/lib/python3.12/dist-packages/statsmodels/tsa/base/tsa_model.py:473: ValueWarning: A date index has been provided, but it has no associated frequency information and so will be ignored when e.g. forecasting.\n",
            "  self._init_dates(dates, freq)\n",
            "/usr/local/lib/python3.12/dist-packages/statsmodels/tsa/base/tsa_model.py:473: ValueWarning: A date index has been provided, but it has no associated frequency information and so will be ignored when e.g. forecasting.\n",
            "  self._init_dates(dates, freq)\n",
            "/usr/local/lib/python3.12/dist-packages/statsmodels/tsa/base/tsa_model.py:837: ValueWarning: No supported index is available. Prediction results will be given with an integer index beginning at `start`.\n",
            "  return get_prediction_index(\n",
            "/usr/local/lib/python3.12/dist-packages/statsmodels/tsa/base/tsa_model.py:837: FutureWarning: No supported index is available. In the next version, calling this method in a model without a supported index will result in an exception.\n",
            "  return get_prediction_index(\n",
            "/usr/local/lib/python3.12/dist-packages/statsmodels/tsa/base/tsa_model.py:473: ValueWarning: A date index has been provided, but it has no associated frequency information and so will be ignored when e.g. forecasting.\n",
            "  self._init_dates(dates, freq)\n",
            "/usr/local/lib/python3.12/dist-packages/statsmodels/tsa/base/tsa_model.py:473: ValueWarning: A date index has been provided, but it has no associated frequency information and so will be ignored when e.g. forecasting.\n",
            "  self._init_dates(dates, freq)\n",
            "/usr/local/lib/python3.12/dist-packages/statsmodels/tsa/base/tsa_model.py:473: ValueWarning: A date index has been provided, but it has no associated frequency information and so will be ignored when e.g. forecasting.\n",
            "  self._init_dates(dates, freq)\n"
          ]
        },
        {
          "output_type": "stream",
          "name": "stdout",
          "text": [
            "forecast:  6481    239.615374\n",
            "6482    239.635265\n",
            "6483    239.675667\n",
            "6484    239.680911\n",
            "6485    239.680283\n",
            "           ...    \n",
            "7232    239.680211\n",
            "7233    239.680211\n",
            "7234    239.680211\n",
            "7235    239.680211\n",
            "7236    239.680211\n",
            "Name: predicted_mean, Length: 756, dtype: float64\n"
          ]
        },
        {
          "output_type": "stream",
          "name": "stderr",
          "text": [
            "/usr/local/lib/python3.12/dist-packages/statsmodels/tsa/base/tsa_model.py:837: ValueWarning: No supported index is available. Prediction results will be given with an integer index beginning at `start`.\n",
            "  return get_prediction_index(\n",
            "/usr/local/lib/python3.12/dist-packages/statsmodels/tsa/base/tsa_model.py:837: FutureWarning: No supported index is available. In the next version, calling this method in a model without a supported index will result in an exception.\n",
            "  return get_prediction_index(\n",
            "/usr/local/lib/python3.12/dist-packages/statsmodels/tsa/base/tsa_model.py:473: ValueWarning: A date index has been provided, but it has no associated frequency information and so will be ignored when e.g. forecasting.\n",
            "  self._init_dates(dates, freq)\n",
            "/usr/local/lib/python3.12/dist-packages/statsmodels/tsa/base/tsa_model.py:473: ValueWarning: A date index has been provided, but it has no associated frequency information and so will be ignored when e.g. forecasting.\n",
            "  self._init_dates(dates, freq)\n",
            "/usr/local/lib/python3.12/dist-packages/statsmodels/tsa/base/tsa_model.py:473: ValueWarning: A date index has been provided, but it has no associated frequency information and so will be ignored when e.g. forecasting.\n",
            "  self._init_dates(dates, freq)\n"
          ]
        },
        {
          "output_type": "stream",
          "name": "stdout",
          "text": [
            "forecast:  6481    239.615374\n",
            "6482    239.635265\n",
            "6483    239.675667\n",
            "6484    239.680911\n",
            "6485    239.680283\n",
            "           ...    \n",
            "7232    239.680211\n",
            "7233    239.680211\n",
            "7234    239.680211\n",
            "7235    239.680211\n",
            "7236    239.680211\n",
            "Name: predicted_mean, Length: 756, dtype: float64\n"
          ]
        },
        {
          "output_type": "stream",
          "name": "stderr",
          "text": [
            "/usr/local/lib/python3.12/dist-packages/statsmodels/tsa/base/tsa_model.py:837: ValueWarning: No supported index is available. Prediction results will be given with an integer index beginning at `start`.\n",
            "  return get_prediction_index(\n",
            "/usr/local/lib/python3.12/dist-packages/statsmodels/tsa/base/tsa_model.py:837: FutureWarning: No supported index is available. In the next version, calling this method in a model without a supported index will result in an exception.\n",
            "  return get_prediction_index(\n",
            "/usr/local/lib/python3.12/dist-packages/statsmodels/tsa/base/tsa_model.py:473: ValueWarning: A date index has been provided, but it has no associated frequency information and so will be ignored when e.g. forecasting.\n",
            "  self._init_dates(dates, freq)\n",
            "/usr/local/lib/python3.12/dist-packages/statsmodels/tsa/base/tsa_model.py:473: ValueWarning: A date index has been provided, but it has no associated frequency information and so will be ignored when e.g. forecasting.\n",
            "  self._init_dates(dates, freq)\n",
            "/usr/local/lib/python3.12/dist-packages/statsmodels/tsa/base/tsa_model.py:473: ValueWarning: A date index has been provided, but it has no associated frequency information and so will be ignored when e.g. forecasting.\n",
            "  self._init_dates(dates, freq)\n"
          ]
        },
        {
          "output_type": "stream",
          "name": "stdout",
          "text": [
            "forecast:  6481    239.615374\n",
            "6482    239.635265\n",
            "6483    239.675667\n",
            "6484    239.680911\n",
            "6485    239.680283\n",
            "           ...    \n",
            "7232    239.680211\n",
            "7233    239.680211\n",
            "7234    239.680211\n",
            "7235    239.680211\n",
            "7236    239.680211\n",
            "Name: predicted_mean, Length: 756, dtype: float64\n",
            "forecast:  6481    239.615374\n",
            "6482    239.635265\n",
            "6483    239.675667\n",
            "6484    239.680911\n",
            "6485    239.680283\n",
            "           ...    \n",
            "7232    239.680211\n",
            "7233    239.680211\n",
            "7234    239.680211\n",
            "7235    239.680211\n",
            "7236    239.680211\n",
            "Name: predicted_mean, Length: 756, dtype: float64\n"
          ]
        },
        {
          "output_type": "stream",
          "name": "stderr",
          "text": [
            "/usr/local/lib/python3.12/dist-packages/statsmodels/tsa/base/tsa_model.py:837: ValueWarning: No supported index is available. Prediction results will be given with an integer index beginning at `start`.\n",
            "  return get_prediction_index(\n",
            "/usr/local/lib/python3.12/dist-packages/statsmodels/tsa/base/tsa_model.py:837: FutureWarning: No supported index is available. In the next version, calling this method in a model without a supported index will result in an exception.\n",
            "  return get_prediction_index(\n"
          ]
        }
      ]
    },
    {
      "cell_type": "markdown",
      "source": [
        "## Build Portfolio"
      ],
      "metadata": {
        "id": "Vqd3rOdnLGqv"
      }
    },
    {
      "cell_type": "code",
      "source": [
        "forecasted_returns = {}\n",
        "for ticker in price_df.columns:\n",
        "    # Pass a DataFrame with the 'close' column for each ticker\n",
        "    forecast = forecast_arima(price_df, ticker)\n",
        "    print(\"forecast: \", forecast)\n",
        "    forecasted_returns[ticker] = compute_expected_return(forecast)\n",
        "    print(\"forecasted_returns: \", forecasted_returns)\n",
        "\n",
        "returns_series = pd.Series(forecasted_returns)\n",
        "cov_matrix = price_df.pct_change().cov()\n",
        "\n",
        "\n",
        "ef = EfficientFrontier(returns_series, cov_matrix)\n",
        "weights = ef.max_sharpe()\n",
        "ef.portfolio_performance(verbose=True)"
      ],
      "metadata": {
        "colab": {
          "base_uri": "https://localhost:8080/"
        },
        "id": "mbGLfbgeLIrE",
        "outputId": "cdaed074-d0ea-4052-f082-8a3c2b079af1"
      },
      "execution_count": 36,
      "outputs": [
        {
          "output_type": "stream",
          "name": "stderr",
          "text": [
            "/usr/local/lib/python3.12/dist-packages/statsmodels/tsa/base/tsa_model.py:473: ValueWarning: A date index has been provided, but it has no associated frequency information and so will be ignored when e.g. forecasting.\n",
            "  self._init_dates(dates, freq)\n",
            "/usr/local/lib/python3.12/dist-packages/statsmodels/tsa/base/tsa_model.py:473: ValueWarning: A date index has been provided, but it has no associated frequency information and so will be ignored when e.g. forecasting.\n",
            "  self._init_dates(dates, freq)\n",
            "/usr/local/lib/python3.12/dist-packages/statsmodels/tsa/base/tsa_model.py:473: ValueWarning: A date index has been provided, but it has no associated frequency information and so will be ignored when e.g. forecasting.\n",
            "  self._init_dates(dates, freq)\n",
            "/usr/local/lib/python3.12/dist-packages/statsmodels/tsa/base/tsa_model.py:837: ValueWarning: No supported index is available. Prediction results will be given with an integer index beginning at `start`.\n",
            "  return get_prediction_index(\n",
            "/usr/local/lib/python3.12/dist-packages/statsmodels/tsa/base/tsa_model.py:837: FutureWarning: No supported index is available. In the next version, calling this method in a model without a supported index will result in an exception.\n",
            "  return get_prediction_index(\n",
            "/usr/local/lib/python3.12/dist-packages/statsmodels/tsa/base/tsa_model.py:473: ValueWarning: A date index has been provided, but it has no associated frequency information and so will be ignored when e.g. forecasting.\n",
            "  self._init_dates(dates, freq)\n",
            "/usr/local/lib/python3.12/dist-packages/statsmodels/tsa/base/tsa_model.py:473: ValueWarning: A date index has been provided, but it has no associated frequency information and so will be ignored when e.g. forecasting.\n",
            "  self._init_dates(dates, freq)\n",
            "/usr/local/lib/python3.12/dist-packages/statsmodels/tsa/base/tsa_model.py:473: ValueWarning: A date index has been provided, but it has no associated frequency information and so will be ignored when e.g. forecasting.\n",
            "  self._init_dates(dates, freq)\n"
          ]
        },
        {
          "output_type": "stream",
          "name": "stdout",
          "text": [
            "forecast:  6481    239.615374\n",
            "6482    239.635265\n",
            "6483    239.675667\n",
            "6484    239.680911\n",
            "6485    239.680283\n",
            "           ...    \n",
            "7232    239.680211\n",
            "7233    239.680211\n",
            "7234    239.680211\n",
            "7235    239.680211\n",
            "7236    239.680211\n",
            "Name: predicted_mean, Length: 756, dtype: float64\n",
            "forecasted_returns:  {'AAPL': np.float64(9.018389540656496e-05)}\n"
          ]
        },
        {
          "output_type": "stream",
          "name": "stderr",
          "text": [
            "/usr/local/lib/python3.12/dist-packages/statsmodels/tsa/base/tsa_model.py:837: ValueWarning: No supported index is available. Prediction results will be given with an integer index beginning at `start`.\n",
            "  return get_prediction_index(\n",
            "/usr/local/lib/python3.12/dist-packages/statsmodels/tsa/base/tsa_model.py:837: FutureWarning: No supported index is available. In the next version, calling this method in a model without a supported index will result in an exception.\n",
            "  return get_prediction_index(\n",
            "/usr/local/lib/python3.12/dist-packages/statsmodels/tsa/base/tsa_model.py:473: ValueWarning: A date index has been provided, but it has no associated frequency information and so will be ignored when e.g. forecasting.\n",
            "  self._init_dates(dates, freq)\n",
            "/usr/local/lib/python3.12/dist-packages/statsmodels/tsa/base/tsa_model.py:473: ValueWarning: A date index has been provided, but it has no associated frequency information and so will be ignored when e.g. forecasting.\n",
            "  self._init_dates(dates, freq)\n",
            "/usr/local/lib/python3.12/dist-packages/statsmodels/tsa/base/tsa_model.py:473: ValueWarning: A date index has been provided, but it has no associated frequency information and so will be ignored when e.g. forecasting.\n",
            "  self._init_dates(dates, freq)\n"
          ]
        },
        {
          "output_type": "stream",
          "name": "stdout",
          "text": [
            "forecast:  6481    350.384539\n",
            "6482    349.828781\n",
            "6483    350.011390\n",
            "6484    350.181698\n",
            "6485    350.853416\n",
            "           ...    \n",
            "7232    350.844827\n",
            "7233    350.844827\n",
            "7234    350.844827\n",
            "7235    350.844827\n",
            "7236    350.844827\n",
            "Name: predicted_mean, Length: 756, dtype: float64\n",
            "forecasted_returns:  {'AAPL': np.float64(9.018389540656496e-05), 'TSLA': np.float64(0.0004376005919365321)}\n"
          ]
        },
        {
          "output_type": "stream",
          "name": "stderr",
          "text": [
            "/usr/local/lib/python3.12/dist-packages/statsmodels/tsa/base/tsa_model.py:837: ValueWarning: No supported index is available. Prediction results will be given with an integer index beginning at `start`.\n",
            "  return get_prediction_index(\n",
            "/usr/local/lib/python3.12/dist-packages/statsmodels/tsa/base/tsa_model.py:837: FutureWarning: No supported index is available. In the next version, calling this method in a model without a supported index will result in an exception.\n",
            "  return get_prediction_index(\n",
            "/usr/local/lib/python3.12/dist-packages/statsmodels/tsa/base/tsa_model.py:473: ValueWarning: A date index has been provided, but it has no associated frequency information and so will be ignored when e.g. forecasting.\n",
            "  self._init_dates(dates, freq)\n",
            "/usr/local/lib/python3.12/dist-packages/statsmodels/tsa/base/tsa_model.py:473: ValueWarning: A date index has been provided, but it has no associated frequency information and so will be ignored when e.g. forecasting.\n",
            "  self._init_dates(dates, freq)\n",
            "/usr/local/lib/python3.12/dist-packages/statsmodels/tsa/base/tsa_model.py:473: ValueWarning: A date index has been provided, but it has no associated frequency information and so will be ignored when e.g. forecasting.\n",
            "  self._init_dates(dates, freq)\n"
          ]
        },
        {
          "output_type": "stream",
          "name": "stdout",
          "text": [
            "forecast:  6481    167.269175\n",
            "6482    167.249695\n",
            "6483    167.371163\n",
            "6484    167.372959\n",
            "6485    167.481548\n",
            "           ...    \n",
            "7232    167.464242\n",
            "7233    167.464242\n",
            "7234    167.464242\n",
            "7235    167.464242\n",
            "7236    167.464242\n",
            "Name: predicted_mean, Length: 756, dtype: float64\n",
            "forecasted_returns:  {'AAPL': np.float64(9.018389540656496e-05), 'TSLA': np.float64(0.0004376005919365321), 'NVDA': np.float64(0.00038850308183014135)}\n",
            "forecast:  6481    495.853287\n",
            "6482    495.819532\n",
            "6483    496.251368\n",
            "6484    496.185633\n",
            "6485    495.840963\n",
            "           ...    \n",
            "7232    495.889714\n",
            "7233    495.889714\n",
            "7234    495.889714\n",
            "7235    495.889714\n",
            "7236    495.889714\n",
            "Name: predicted_mean, Length: 756, dtype: float64\n",
            "forecasted_returns:  {'AAPL': np.float64(9.018389540656496e-05), 'TSLA': np.float64(0.0004376005919365321), 'NVDA': np.float64(0.00038850308183014135), 'MSFT': np.float64(2.4486861659851542e-05)}\n",
            "Expected annual return: 0.0%\n",
            "Annual volatility: 3.2%\n",
            "Sharpe Ratio: 0.01\n"
          ]
        },
        {
          "output_type": "stream",
          "name": "stderr",
          "text": [
            "/usr/local/lib/python3.12/dist-packages/statsmodels/tsa/base/tsa_model.py:837: ValueWarning: No supported index is available. Prediction results will be given with an integer index beginning at `start`.\n",
            "  return get_prediction_index(\n",
            "/usr/local/lib/python3.12/dist-packages/statsmodels/tsa/base/tsa_model.py:837: FutureWarning: No supported index is available. In the next version, calling this method in a model without a supported index will result in an exception.\n",
            "  return get_prediction_index(\n"
          ]
        },
        {
          "output_type": "execute_result",
          "data": {
            "text/plain": [
              "(np.float64(0.0004169431882660869),\n",
              " np.float64(0.0321350638332425),\n",
              " np.float64(0.012974711686577545))"
            ]
          },
          "metadata": {},
          "execution_count": 36
        }
      ]
    }
  ]
}